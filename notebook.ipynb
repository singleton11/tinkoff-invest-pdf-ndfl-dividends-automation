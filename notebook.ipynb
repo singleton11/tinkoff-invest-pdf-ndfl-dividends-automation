{
 "cells": [
  {
   "cell_type": "code",
   "execution_count": 12,
   "metadata": {
    "collapsed": true,
    "pycharm": {
     "name": "#%%\n"
    }
   },
   "outputs": [],
   "source": [
    "import camelot\n",
    "\n",
    "# Парсим дивиденды из PDF, которую нам предоставляет тинькофф\n",
    "\n",
    "tables = camelot.read_pdf('resources/divs.pdf', pages = \"1-end\")"
   ]
  },
  {
   "cell_type": "code",
   "execution_count": 20,
   "outputs": [],
   "source": [
    "# Объединяем в одну таблицу\n",
    "\n",
    "import pandas as pd\n",
    "\n",
    "# concat data frames\n",
    "df = pd.concat([x.df for x in tables])\n",
    "\n",
    "# remove redundant rows and transform it to table header\n",
    "df.columns = df.iloc[0]\n",
    "\n",
    "df = df.drop(0)"
   ],
   "metadata": {
    "collapsed": false,
    "pycharm": {
     "name": "#%%\n"
    }
   }
  },
  {
   "cell_type": "code",
   "execution_count": 86,
   "outputs": [],
   "source": [
    "# Запускаем хром логинимся, переходим на форму, где мы должны указать доходы из-за рубежа\n",
    "\n",
    "from selenium import webdriver\n",
    "\n",
    "driver = webdriver.Chrome()"
   ],
   "metadata": {
    "collapsed": false,
    "pycharm": {
     "name": "#%%\n"
    }
   }
  },
  {
   "cell_type": "code",
   "execution_count": 92,
   "outputs": [
    {
     "ename": "ElementNotInteractableException",
     "evalue": "Message: element not interactable\n  (Session info: chrome=89.0.4389.114)\n",
     "output_type": "error",
     "traceback": [
      "\u001B[0;31m---------------------------------------------------------------------------\u001B[0m",
      "\u001B[0;31mElementNotInteractableException\u001B[0m           Traceback (most recent call last)",
      "\u001B[0;32m<ipython-input-92-5baf60904ee6>\u001B[0m in \u001B[0;36m<module>\u001B[0;34m\u001B[0m\n\u001B[1;32m     58\u001B[0m \u001B[0;34m\u001B[0m\u001B[0m\n\u001B[1;32m     59\u001B[0m     \u001B[0;31m# get currency quote automatically\u001B[0m\u001B[0;34m\u001B[0m\u001B[0;34m\u001B[0m\u001B[0;34m\u001B[0m\u001B[0m\n\u001B[0;32m---> 60\u001B[0;31m     \u001B[0mdriver\u001B[0m\u001B[0;34m.\u001B[0m\u001B[0mfind_elements_by_class_name\u001B[0m\u001B[0;34m(\u001B[0m\u001B[0;34m'form-checkbox'\u001B[0m\u001B[0;34m)\u001B[0m\u001B[0;34m[\u001B[0m\u001B[0;34m-\u001B[0m\u001B[0;36m1\u001B[0m\u001B[0;34m]\u001B[0m\u001B[0;34m.\u001B[0m\u001B[0mclick\u001B[0m\u001B[0;34m(\u001B[0m\u001B[0;34m)\u001B[0m\u001B[0;34m\u001B[0m\u001B[0;34m\u001B[0m\u001B[0m\n\u001B[0m\u001B[1;32m     61\u001B[0m \u001B[0;34m\u001B[0m\u001B[0m\n\u001B[1;32m     62\u001B[0m     \u001B[0;31m# already paid\u001B[0m\u001B[0;34m\u001B[0m\u001B[0;34m\u001B[0m\u001B[0;34m\u001B[0m\u001B[0m\n",
      "\u001B[0;32m~/.local/share/virtualenvs/tinkoff-invest-dividends-T721U1zs/lib/python3.9/site-packages/selenium/webdriver/remote/webelement.py\u001B[0m in \u001B[0;36mclick\u001B[0;34m(self)\u001B[0m\n\u001B[1;32m     78\u001B[0m     \u001B[0;32mdef\u001B[0m \u001B[0mclick\u001B[0m\u001B[0;34m(\u001B[0m\u001B[0mself\u001B[0m\u001B[0;34m)\u001B[0m\u001B[0;34m:\u001B[0m\u001B[0;34m\u001B[0m\u001B[0;34m\u001B[0m\u001B[0m\n\u001B[1;32m     79\u001B[0m         \u001B[0;34m\"\"\"Clicks the element.\"\"\"\u001B[0m\u001B[0;34m\u001B[0m\u001B[0;34m\u001B[0m\u001B[0m\n\u001B[0;32m---> 80\u001B[0;31m         \u001B[0mself\u001B[0m\u001B[0;34m.\u001B[0m\u001B[0m_execute\u001B[0m\u001B[0;34m(\u001B[0m\u001B[0mCommand\u001B[0m\u001B[0;34m.\u001B[0m\u001B[0mCLICK_ELEMENT\u001B[0m\u001B[0;34m)\u001B[0m\u001B[0;34m\u001B[0m\u001B[0;34m\u001B[0m\u001B[0m\n\u001B[0m\u001B[1;32m     81\u001B[0m \u001B[0;34m\u001B[0m\u001B[0m\n\u001B[1;32m     82\u001B[0m     \u001B[0;32mdef\u001B[0m \u001B[0msubmit\u001B[0m\u001B[0;34m(\u001B[0m\u001B[0mself\u001B[0m\u001B[0;34m)\u001B[0m\u001B[0;34m:\u001B[0m\u001B[0;34m\u001B[0m\u001B[0;34m\u001B[0m\u001B[0m\n",
      "\u001B[0;32m~/.local/share/virtualenvs/tinkoff-invest-dividends-T721U1zs/lib/python3.9/site-packages/selenium/webdriver/remote/webelement.py\u001B[0m in \u001B[0;36m_execute\u001B[0;34m(self, command, params)\u001B[0m\n\u001B[1;32m    631\u001B[0m             \u001B[0mparams\u001B[0m \u001B[0;34m=\u001B[0m \u001B[0;34m{\u001B[0m\u001B[0;34m}\u001B[0m\u001B[0;34m\u001B[0m\u001B[0;34m\u001B[0m\u001B[0m\n\u001B[1;32m    632\u001B[0m         \u001B[0mparams\u001B[0m\u001B[0;34m[\u001B[0m\u001B[0;34m'id'\u001B[0m\u001B[0;34m]\u001B[0m \u001B[0;34m=\u001B[0m \u001B[0mself\u001B[0m\u001B[0;34m.\u001B[0m\u001B[0m_id\u001B[0m\u001B[0;34m\u001B[0m\u001B[0;34m\u001B[0m\u001B[0m\n\u001B[0;32m--> 633\u001B[0;31m         \u001B[0;32mreturn\u001B[0m \u001B[0mself\u001B[0m\u001B[0;34m.\u001B[0m\u001B[0m_parent\u001B[0m\u001B[0;34m.\u001B[0m\u001B[0mexecute\u001B[0m\u001B[0;34m(\u001B[0m\u001B[0mcommand\u001B[0m\u001B[0;34m,\u001B[0m \u001B[0mparams\u001B[0m\u001B[0;34m)\u001B[0m\u001B[0;34m\u001B[0m\u001B[0;34m\u001B[0m\u001B[0m\n\u001B[0m\u001B[1;32m    634\u001B[0m \u001B[0;34m\u001B[0m\u001B[0m\n\u001B[1;32m    635\u001B[0m     \u001B[0;32mdef\u001B[0m \u001B[0mfind_element\u001B[0m\u001B[0;34m(\u001B[0m\u001B[0mself\u001B[0m\u001B[0;34m,\u001B[0m \u001B[0mby\u001B[0m\u001B[0;34m=\u001B[0m\u001B[0mBy\u001B[0m\u001B[0;34m.\u001B[0m\u001B[0mID\u001B[0m\u001B[0;34m,\u001B[0m \u001B[0mvalue\u001B[0m\u001B[0;34m=\u001B[0m\u001B[0;32mNone\u001B[0m\u001B[0;34m)\u001B[0m\u001B[0;34m:\u001B[0m\u001B[0;34m\u001B[0m\u001B[0;34m\u001B[0m\u001B[0m\n",
      "\u001B[0;32m~/.local/share/virtualenvs/tinkoff-invest-dividends-T721U1zs/lib/python3.9/site-packages/selenium/webdriver/remote/webdriver.py\u001B[0m in \u001B[0;36mexecute\u001B[0;34m(self, driver_command, params)\u001B[0m\n\u001B[1;32m    319\u001B[0m         \u001B[0mresponse\u001B[0m \u001B[0;34m=\u001B[0m \u001B[0mself\u001B[0m\u001B[0;34m.\u001B[0m\u001B[0mcommand_executor\u001B[0m\u001B[0;34m.\u001B[0m\u001B[0mexecute\u001B[0m\u001B[0;34m(\u001B[0m\u001B[0mdriver_command\u001B[0m\u001B[0;34m,\u001B[0m \u001B[0mparams\u001B[0m\u001B[0;34m)\u001B[0m\u001B[0;34m\u001B[0m\u001B[0;34m\u001B[0m\u001B[0m\n\u001B[1;32m    320\u001B[0m         \u001B[0;32mif\u001B[0m \u001B[0mresponse\u001B[0m\u001B[0;34m:\u001B[0m\u001B[0;34m\u001B[0m\u001B[0;34m\u001B[0m\u001B[0m\n\u001B[0;32m--> 321\u001B[0;31m             \u001B[0mself\u001B[0m\u001B[0;34m.\u001B[0m\u001B[0merror_handler\u001B[0m\u001B[0;34m.\u001B[0m\u001B[0mcheck_response\u001B[0m\u001B[0;34m(\u001B[0m\u001B[0mresponse\u001B[0m\u001B[0;34m)\u001B[0m\u001B[0;34m\u001B[0m\u001B[0;34m\u001B[0m\u001B[0m\n\u001B[0m\u001B[1;32m    322\u001B[0m             response['value'] = self._unwrap_value(\n\u001B[1;32m    323\u001B[0m                 response.get('value', None))\n",
      "\u001B[0;32m~/.local/share/virtualenvs/tinkoff-invest-dividends-T721U1zs/lib/python3.9/site-packages/selenium/webdriver/remote/errorhandler.py\u001B[0m in \u001B[0;36mcheck_response\u001B[0;34m(self, response)\u001B[0m\n\u001B[1;32m    240\u001B[0m                 \u001B[0malert_text\u001B[0m \u001B[0;34m=\u001B[0m \u001B[0mvalue\u001B[0m\u001B[0;34m[\u001B[0m\u001B[0;34m'alert'\u001B[0m\u001B[0;34m]\u001B[0m\u001B[0;34m.\u001B[0m\u001B[0mget\u001B[0m\u001B[0;34m(\u001B[0m\u001B[0;34m'text'\u001B[0m\u001B[0;34m)\u001B[0m\u001B[0;34m\u001B[0m\u001B[0;34m\u001B[0m\u001B[0m\n\u001B[1;32m    241\u001B[0m             \u001B[0;32mraise\u001B[0m \u001B[0mexception_class\u001B[0m\u001B[0;34m(\u001B[0m\u001B[0mmessage\u001B[0m\u001B[0;34m,\u001B[0m \u001B[0mscreen\u001B[0m\u001B[0;34m,\u001B[0m \u001B[0mstacktrace\u001B[0m\u001B[0;34m,\u001B[0m \u001B[0malert_text\u001B[0m\u001B[0;34m)\u001B[0m\u001B[0;34m\u001B[0m\u001B[0;34m\u001B[0m\u001B[0m\n\u001B[0;32m--> 242\u001B[0;31m         \u001B[0;32mraise\u001B[0m \u001B[0mexception_class\u001B[0m\u001B[0;34m(\u001B[0m\u001B[0mmessage\u001B[0m\u001B[0;34m,\u001B[0m \u001B[0mscreen\u001B[0m\u001B[0;34m,\u001B[0m \u001B[0mstacktrace\u001B[0m\u001B[0;34m)\u001B[0m\u001B[0;34m\u001B[0m\u001B[0;34m\u001B[0m\u001B[0m\n\u001B[0m\u001B[1;32m    243\u001B[0m \u001B[0;34m\u001B[0m\u001B[0m\n\u001B[1;32m    244\u001B[0m     \u001B[0;32mdef\u001B[0m \u001B[0m_value_or_default\u001B[0m\u001B[0;34m(\u001B[0m\u001B[0mself\u001B[0m\u001B[0;34m,\u001B[0m \u001B[0mobj\u001B[0m\u001B[0;34m,\u001B[0m \u001B[0mkey\u001B[0m\u001B[0;34m,\u001B[0m \u001B[0mdefault\u001B[0m\u001B[0;34m)\u001B[0m\u001B[0;34m:\u001B[0m\u001B[0;34m\u001B[0m\u001B[0;34m\u001B[0m\u001B[0m\n",
      "\u001B[0;31mElementNotInteractableException\u001B[0m: Message: element not interactable\n  (Session info: chrome=89.0.4389.114)\n"
     ]
    }
   ],
   "source": [
    "# Собственно, когда все готово - запускаем эту яйечку\n",
    "\n",
    "countries_dict = {\n",
    "    'США': '840 - СОЕДИНЕННЫЕ ШТАТЫ ',\n",
    "    'Кипр': '196 - КИПР ',\n",
    "    'Великобритания': '826 - СОЕДИНЕННОЕ КОРОЛЕВСТВО ',\n",
    "    'Нидерланды': '528 - НИДЕРЛАНДЫ ',\n",
    "    'Швейцарская Конфедерация': '756 - ШВЕЙЦАРИЯ ',\n",
    "    'Ирландия': '372 - ИРЛАНДИЯ ',\n",
    "    'КАЙМАН': '136 - ОСТРОВА КАЙМАН ',\n",
    "}\n",
    "\n",
    "income_type = '1010 - Дивиденды'\n",
    "i = 0\n",
    "\n",
    "add_button = driver.find_element_by_class_name('src-modules-Taps-components-NDFL3-private-forms-IncomesForm-IncomesOutsideRFComponent-IncomeSources-IncomeSources-module__addButton')\n",
    "for row in df.iterrows():\n",
    "    name = row[1].values[3].replace(' ORD SHS', '')\n",
    "    country = row[1].values[5].replace('\\n', ' ')\n",
    "    value_without_tax = row[1].values[9]\n",
    "    tax_paid = row[1].values[10]\n",
    "    date_received = row[1].values[1]\n",
    "    date_paid = row[1].values[1]\n",
    "\n",
    "    add_button.click()\n",
    "    driver.find_elements_by_class_name('src-modules-Taps-components-NDFL3-private-forms-IncomesForm-IncomesOutsideRFComponent-IncomeSources-IncomeSources-module__incomeSourceSpoiler')[-1].click()\n",
    "    # name\n",
    "    driver.find_element_by_name(f'Ndfl3Package.payload.sheetB.sources[{i}].incomeSourceName').send_keys(name)\n",
    "\n",
    "    # country\n",
    "    driver.find_element_by_id(f'Ndfl3Package.payload.sheetB.sources[{i}].oksm').click()\n",
    "    driver.find_element_by_css_selector(f\"div[aria-label='{countries_dict[country]}']\").click()\n",
    "\n",
    "    # revenue type\n",
    "    driver.find_element_by_id(f'Ndfl3Package.payload.sheetB.sources[{i}].incomeTypeCode').click()\n",
    "    driver.find_element_by_css_selector(f\"div[aria-label='{income_type}']\").click()\n",
    "\n",
    "    # deduct_type\n",
    "    deduct_id = f'Ndfl3Package.payload.sheetB.sources[{i}].taxDeductionCode'\n",
    "    deduct_type = 'Не предоставлять вычет'\n",
    "    driver.find_element_by_id(deduct_id).click()\n",
    "    driver.find_element_by_css_selector(f\"div[aria-label='{deduct_type}']\").click()\n",
    "\n",
    "    # revenue\n",
    "    revenue_id = f'Ndfl3Package.payload.sheetB.sources[{i}].incomeAmountCurrency'\n",
    "    driver.find_element_by_id(revenue_id).send_keys(value_without_tax.replace(',', '.'))\n",
    "\n",
    "    # dates\n",
    "    income_date_id = f'Ndfl3Package.payload.sheetB.sources[{i}].incomeDate'\n",
    "    tax_date_id = f'Ndfl3Package.payload.sheetB.sources[{i}].taxPaymentDate'\n",
    "\n",
    "    driver.find_element_by_id(income_date_id).find_element_by_tag_name('input').send_keys(date_received)\n",
    "    driver.find_element_by_id(tax_date_id).find_element_by_tag_name('input').send_keys(date_paid)\n",
    "\n",
    "    # currency\n",
    "    currency = '840 - Доллар США'\n",
    "    currency_id = f'Ndfl3Package.payload.sheetB.sources[{i}].currencyCode'\n",
    "    driver.find_element_by_id(currency_id).click()\n",
    "    driver.find_element_by_css_selector(f\"div[aria-label='{currency}']\").click()\n",
    "\n",
    "    # get currency quote automatically\n",
    "    driver.find_elements_by_class_name('form-checkbox')[-1].click()\n",
    "\n",
    "    # already paid\n",
    "    driver.find_element_by_id(f'Ndfl3Package.payload.sheetB.sources[{i}].paymentAmountCurrency').send_keys(tax_paid.replace(',', '.'))\n",
    "\n",
    "    i += 1"
   ],
   "metadata": {
    "collapsed": false,
    "pycharm": {
     "name": "#%%\n"
    }
   }
  }
 ],
 "metadata": {
  "kernelspec": {
   "display_name": "Python 3",
   "language": "python",
   "name": "python3"
  },
  "language_info": {
   "codemirror_mode": {
    "name": "ipython",
    "version": 2
   },
   "file_extension": ".py",
   "mimetype": "text/x-python",
   "name": "python",
   "nbconvert_exporter": "python",
   "pygments_lexer": "ipython2",
   "version": "2.7.6"
  }
 },
 "nbformat": 4,
 "nbformat_minor": 0
}